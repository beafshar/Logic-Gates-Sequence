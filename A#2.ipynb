{
 "cells": [
  {
   "cell_type": "markdown",
   "metadata": {},
   "source": [
    "# Genetic Algorithms\n",
    "\n",
    "## FALL-99 A#2\n",
    "### Bahar Emami Afshar\n",
    "### STD number: 810197662\n",
    "### Abstract: In this project we're going to use genetic algorithms to find an answer to our problem which is finding a sequnece of logical gates that satisfies the conditions."
   ]
  },
  {
   "cell_type": "markdown",
   "metadata": {},
   "source": [
    "# Phase 1:\n",
    "**gene**: each gate here represents a gene.\n",
    "\n",
    "**chromosome**: a sequence of gates(genes) represent a chromosome. each sequence can or can not satisfy the conditions\n",
    "\n",
    "# Phase 2:\n",
    "we have chosed 2^(number of inputs to be predicted) as the number of our population.\n",
    "\n",
    "to generate initial population we generate completly random indices for the inputs."
   ]
  },
  {
   "cell_type": "code",
   "execution_count": 156,
   "metadata": {},
   "outputs": [],
   "source": [
    "import pandas as pd\n",
    "import numpy as np\n",
    "df = pd.read_csv(\"truth_table.csv\")\n",
    "\n",
    "cols = list(df.columns)"
   ]
  },
  {
   "cell_type": "code",
   "execution_count": 157,
   "metadata": {},
   "outputs": [],
   "source": [
    "def print_results(result):\n",
    "    print(\"the result is:\")\n",
    "    for x in result:\n",
    "        if x == 0: print(\"AND\", end= \" \")\n",
    "        elif x == 1: print(\"OR\", end= \" \")\n",
    "        elif x == 2: print(\"NAND\", end= \" \")\n",
    "        elif x == 3: print(\"NOR\", end= \" \")\n",
    "        elif x == 4: print(\"XOR\", end= \" \")\n",
    "        if x == 5: print(\"XNOR\", end= \" \")\n",
    "    print()\n",
    "    \n",
    "def create_gates(idx,a,b):\n",
    "    if idx == 0: return a & b \n",
    "    elif idx == 1: return a | b \n",
    "    elif idx == 2: return ~(a & b)\n",
    "    elif idx == 3: return ~(a | b) \n",
    "    elif idx == 4: return a^b\n",
    "    if idx == 5: return ~(a^b)\n",
    "\n",
    "\n",
    "def calc_chromosome(population,shape):\n",
    "    output = create_gates(population[0],df[cols[0]],df[cols[1]])\n",
    "    for i in range(1,shape):\n",
    "        output = create_gates(population[i],output,df[cols[i+1]])\n",
    "        \n",
    "    return output\n",
    "        "
   ]
  },
  {
   "cell_type": "markdown",
   "metadata": {},
   "source": [
    "# Phase 3:\n",
    "### fitness defiend in this problem is the accuracy of our prediction for each chromosome"
   ]
  },
  {
   "cell_type": "code",
   "execution_count": 181,
   "metadata": {},
   "outputs": [],
   "source": [
    "def calc_fitness(output,power):\n",
    "    return (sum(df['Output'] == output))**power"
   ]
  },
  {
   "cell_type": "markdown",
   "metadata": {},
   "source": [
    "# Phase 4:\n",
    "### Crossover and mutation"
   ]
  },
  {
   "cell_type": "code",
   "execution_count": 182,
   "metadata": {},
   "outputs": [],
   "source": [
    "def cross_over(x,y,p_c= 0.7):\n",
    "    p = np.random.rand()\n",
    "    if p > p_c:\n",
    "        return x,y,False\n",
    "    point = np.random.randint(low=0, high=len(x))\n",
    "    x1 = x[:point]\n",
    "    x2 = x[point:]\n",
    "    y1 = y[:point]\n",
    "    y2 = y[point:]\n",
    "    child1 = np.concatenate((x1, y2), axis=None)\n",
    "    child2 = np.concatenate((y1, x2), axis=None)\n",
    "    return child1,child2,True\n",
    "    \n",
    "def mutation(x,p_m = 0.4):\n",
    "    for i in range(len(x)):\n",
    "        p = np.random.rand()\n",
    "        if p < p_m:\n",
    "            point = np.random.randint(low=0, high=6)\n",
    "            x[i] = point\n",
    "    return x\n",
    "          "
   ]
  },
  {
   "cell_type": "markdown",
   "metadata": {},
   "source": [
    "## The whole process"
   ]
  },
  {
   "cell_type": "code",
   "execution_count": 192,
   "metadata": {},
   "outputs": [
    {
     "name": "stdout",
     "output_type": "stream",
     "text": [
      "Calculating...\n",
      "Achieved goal in 16 generations and in 15.496057033538818 seconds.\n",
      "the result is:\n",
      "NAND XNOR NOR XOR AND OR NAND XNOR NOR \n"
     ]
    }
   ],
   "source": [
    "import time\n",
    "genes = len(cols) - 2\n",
    "print(\"Calculating...\")\n",
    "\n",
    "chromosomes = 2**(genes)\n",
    "pop_size = (chromosomes,genes)\n",
    "start = time.time()\n",
    "new_population_idx = np.random.randint(low=0, high=6, size=pop_size)\n",
    "\n",
    "num_of_generations = 1\n",
    "max_fit = 0\n",
    "n = 0\n",
    "power = 4\n",
    "steps = 4\n",
    "\n",
    "while(True):\n",
    "    new_population = np.array([calc_chromosome(pop_idx,genes) for pop_idx in new_population_idx])\n",
    "    fit = []\n",
    "    fit = np.array([calc_fitness(pop,power) for pop in new_population])\n",
    "    if max(fit) == max_fit:\n",
    "        n += 1\n",
    "    else:\n",
    "        n = 0\n",
    "    \n",
    "    if n < steps:\n",
    "        p_m = 0.1\n",
    "    else:\n",
    "        p_m = 0.4\n",
    "        n = 0\n",
    "    max_fit = max(fit)\n",
    "\n",
    "    if (df.shape[0])**power == max(fit):\n",
    "        print(\"Achieved goal in \" + str(num_of_generations) +\n",
    "              \" generations and in \" + str(time.time() - start) + \" seconds.\")\n",
    "        print_results(new_population_idx[np.argmax(fit)])\n",
    "        \n",
    "        break\n",
    "    \n",
    "    fitness = fit/sum(fit)\n",
    "\n",
    "    parrents_num = len(new_population)\n",
    "    indices = np.random.choice(np.arange(len(fitness)),replace = True, size =parrents_num,p = fitness)\n",
    "\n",
    "    children = np.array([[0,0,0,0,0,0,0,0,0]])\n",
    "    parrents = np.array([0])\n",
    "    \n",
    "    \n",
    "    if max(fit) < ((0.9 * df.shape[0])**power):\n",
    "        p_m = 0.4\n",
    "        p_c = 0.85\n",
    "    else:\n",
    "        p_m = 0.1\n",
    "        p_c = 0.7\n",
    "\n",
    "    for i in range(0,len(indices),2):\n",
    "        par_idx1 = indices[i]\n",
    "        par_idx2 = indices[i+1]\n",
    "\n",
    "        parrent1, parrent2 = new_population_idx[par_idx1],new_population_idx[par_idx2]\n",
    "        child1,child2,flag = cross_over(parrent1,parrent2,p_c = p_c)\n",
    "            \n",
    "        child1 = mutation(child1,p_m)\n",
    "        child2 = mutation(child2,p_m)\n",
    "        children = np.append(children,[child1,child2],axis= 0)\n",
    "\n",
    "\n",
    "    children = np.delete(children,0,axis = 0)\n",
    "    new_population_idx = children\n",
    "    \n",
    "    num_of_generations += 1\n",
    "   \n",
    "\n",
    "\n",
    " \n",
    "    "
   ]
  },
  {
   "cell_type": "markdown",
   "metadata": {},
   "source": [
    "# Phase 5: Questions\n",
    "### 1.\n",
    "selecting accuracy of prediction as our model fitness can be good, because the more acuuracy gets, more lines of our dataframe satisfy the constraints and the closer we get to our answer.\n",
    "here we exponentiate the number of True predicted rows by a variable called power. this makes every little change to be more sensible.\n",
    "### 2.\n",
    "in each generation we use **np.random.choice()** to select the best parrents to create children. this function generates random indices in the given range according to their probabalities which here is their fitness which means parrent with higher fitness gets more chance to be chosed.\n",
    "### 3.\n",
    "**cross over** of parrents with high fitness makes better children chromosomes, we have chosen a variable p_c wich is normally 0.7 but when the results are getting worse and the fitness is decreasing p_m will be set to 0.85 to change chromosomes more.\n",
    "\n",
    "**mutation** impact is normally less than crossover impact. we have chosen a variable p_m which is the mutation probabality and its default value is 0.1 but when results get worse it is changed to 0.4 to make more change to chromosomes.\n",
    "### 4.\n",
    "to prevent chromosomes stability we have tried several methods:\n",
    "1. exponentiation of accuracy, the best power was 4.\n",
    "2. when maximum fitness of our model gets below 90% we increase mutation and crossover probability to cause more changes.\n",
    "3. if maximum fitness of our model remains the same for a number of generation we increase mutation and crossover probability to cause more changes."
   ]
  },
  {
   "cell_type": "code",
   "execution_count": null,
   "metadata": {},
   "outputs": [],
   "source": []
  }
 ],
 "metadata": {
  "kernelspec": {
   "display_name": "Python 3",
   "language": "python",
   "name": "python3"
  },
  "language_info": {
   "codemirror_mode": {
    "name": "ipython",
    "version": 3
   },
   "file_extension": ".py",
   "mimetype": "text/x-python",
   "name": "python",
   "nbconvert_exporter": "python",
   "pygments_lexer": "ipython3",
   "version": "3.8.5"
  }
 },
 "nbformat": 4,
 "nbformat_minor": 4
}
